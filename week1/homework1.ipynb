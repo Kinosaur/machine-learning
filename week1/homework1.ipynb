{
 "cells": [
  {
   "cell_type": "code",
   "execution_count": 11,
   "id": "21ea81eb",
   "metadata": {},
   "outputs": [],
   "source": [
    "import pandas as pd"
   ]
  },
  {
   "cell_type": "code",
   "execution_count": 12,
   "id": "d1cd62f9",
   "metadata": {},
   "outputs": [
    {
     "data": {
      "text/html": [
       "<div>\n",
       "<style scoped>\n",
       "    .dataframe tbody tr th:only-of-type {\n",
       "        vertical-align: middle;\n",
       "    }\n",
       "\n",
       "    .dataframe tbody tr th {\n",
       "        vertical-align: top;\n",
       "    }\n",
       "\n",
       "    .dataframe thead th {\n",
       "        text-align: right;\n",
       "    }\n",
       "</style>\n",
       "<table border=\"1\" class=\"dataframe\">\n",
       "  <thead>\n",
       "    <tr style=\"text-align: right;\">\n",
       "      <th></th>\n",
       "      <th>Gender</th>\n",
       "      <th>Height</th>\n",
       "      <th>Weight</th>\n",
       "      <th>Index</th>\n",
       "    </tr>\n",
       "  </thead>\n",
       "  <tbody>\n",
       "    <tr>\n",
       "      <th>0</th>\n",
       "      <td>Male</td>\n",
       "      <td>174</td>\n",
       "      <td>96</td>\n",
       "      <td>4</td>\n",
       "    </tr>\n",
       "    <tr>\n",
       "      <th>1</th>\n",
       "      <td>Male</td>\n",
       "      <td>189</td>\n",
       "      <td>87</td>\n",
       "      <td>2</td>\n",
       "    </tr>\n",
       "    <tr>\n",
       "      <th>2</th>\n",
       "      <td>Female</td>\n",
       "      <td>185</td>\n",
       "      <td>110</td>\n",
       "      <td>4</td>\n",
       "    </tr>\n",
       "    <tr>\n",
       "      <th>3</th>\n",
       "      <td>Female</td>\n",
       "      <td>195</td>\n",
       "      <td>104</td>\n",
       "      <td>3</td>\n",
       "    </tr>\n",
       "    <tr>\n",
       "      <th>4</th>\n",
       "      <td>Male</td>\n",
       "      <td>149</td>\n",
       "      <td>61</td>\n",
       "      <td>3</td>\n",
       "    </tr>\n",
       "  </tbody>\n",
       "</table>\n",
       "</div>"
      ],
      "text/plain": [
       "   Gender  Height  Weight  Index\n",
       "0    Male     174      96      4\n",
       "1    Male     189      87      2\n",
       "2  Female     185     110      4\n",
       "3  Female     195     104      3\n",
       "4    Male     149      61      3"
      ]
     },
     "execution_count": 12,
     "metadata": {},
     "output_type": "execute_result"
    }
   ],
   "source": [
    "bmi = pd.read_csv('bmi.csv')\n",
    "bmi.head()"
   ]
  },
  {
   "cell_type": "code",
   "execution_count": 13,
   "id": "d664a7de",
   "metadata": {},
   "outputs": [
    {
     "data": {
      "text/html": [
       "<div>\n",
       "<style scoped>\n",
       "    .dataframe tbody tr th:only-of-type {\n",
       "        vertical-align: middle;\n",
       "    }\n",
       "\n",
       "    .dataframe tbody tr th {\n",
       "        vertical-align: top;\n",
       "    }\n",
       "\n",
       "    .dataframe thead th {\n",
       "        text-align: right;\n",
       "    }\n",
       "</style>\n",
       "<table border=\"1\" class=\"dataframe\">\n",
       "  <thead>\n",
       "    <tr style=\"text-align: right;\">\n",
       "      <th></th>\n",
       "      <th>Height</th>\n",
       "      <th>Weight</th>\n",
       "      <th>Index</th>\n",
       "    </tr>\n",
       "  </thead>\n",
       "  <tbody>\n",
       "    <tr>\n",
       "      <th>0</th>\n",
       "      <td>174</td>\n",
       "      <td>96</td>\n",
       "      <td>4</td>\n",
       "    </tr>\n",
       "    <tr>\n",
       "      <th>1</th>\n",
       "      <td>189</td>\n",
       "      <td>87</td>\n",
       "      <td>2</td>\n",
       "    </tr>\n",
       "    <tr>\n",
       "      <th>2</th>\n",
       "      <td>185</td>\n",
       "      <td>110</td>\n",
       "      <td>4</td>\n",
       "    </tr>\n",
       "    <tr>\n",
       "      <th>3</th>\n",
       "      <td>195</td>\n",
       "      <td>104</td>\n",
       "      <td>3</td>\n",
       "    </tr>\n",
       "    <tr>\n",
       "      <th>4</th>\n",
       "      <td>149</td>\n",
       "      <td>61</td>\n",
       "      <td>3</td>\n",
       "    </tr>\n",
       "  </tbody>\n",
       "</table>\n",
       "</div>"
      ],
      "text/plain": [
       "   Height  Weight  Index\n",
       "0     174      96      4\n",
       "1     189      87      2\n",
       "2     185     110      4\n",
       "3     195     104      3\n",
       "4     149      61      3"
      ]
     },
     "execution_count": 13,
     "metadata": {},
     "output_type": "execute_result"
    }
   ],
   "source": [
    "bmi = bmi.drop('Gender', axis=1)\n",
    "bmi.head()"
   ]
  },
  {
   "cell_type": "code",
   "execution_count": 14,
   "id": "c6c34ac6",
   "metadata": {},
   "outputs": [
    {
     "data": {
      "text/html": [
       "<div>\n",
       "<style scoped>\n",
       "    .dataframe tbody tr th:only-of-type {\n",
       "        vertical-align: middle;\n",
       "    }\n",
       "\n",
       "    .dataframe tbody tr th {\n",
       "        vertical-align: top;\n",
       "    }\n",
       "\n",
       "    .dataframe thead th {\n",
       "        text-align: right;\n",
       "    }\n",
       "</style>\n",
       "<table border=\"1\" class=\"dataframe\">\n",
       "  <thead>\n",
       "    <tr style=\"text-align: right;\">\n",
       "      <th></th>\n",
       "      <th>X1</th>\n",
       "      <th>X2</th>\n",
       "      <th>y</th>\n",
       "    </tr>\n",
       "  </thead>\n",
       "  <tbody>\n",
       "    <tr>\n",
       "      <th>0</th>\n",
       "      <td>174</td>\n",
       "      <td>96</td>\n",
       "      <td>4</td>\n",
       "    </tr>\n",
       "    <tr>\n",
       "      <th>1</th>\n",
       "      <td>189</td>\n",
       "      <td>87</td>\n",
       "      <td>2</td>\n",
       "    </tr>\n",
       "    <tr>\n",
       "      <th>2</th>\n",
       "      <td>185</td>\n",
       "      <td>110</td>\n",
       "      <td>4</td>\n",
       "    </tr>\n",
       "    <tr>\n",
       "      <th>3</th>\n",
       "      <td>195</td>\n",
       "      <td>104</td>\n",
       "      <td>3</td>\n",
       "    </tr>\n",
       "    <tr>\n",
       "      <th>4</th>\n",
       "      <td>149</td>\n",
       "      <td>61</td>\n",
       "      <td>3</td>\n",
       "    </tr>\n",
       "  </tbody>\n",
       "</table>\n",
       "</div>"
      ],
      "text/plain": [
       "    X1   X2  y\n",
       "0  174   96  4\n",
       "1  189   87  2\n",
       "2  185  110  4\n",
       "3  195  104  3\n",
       "4  149   61  3"
      ]
     },
     "execution_count": 14,
     "metadata": {},
     "output_type": "execute_result"
    }
   ],
   "source": [
    "# Rename for clarity\n",
    "bmi = bmi.rename(columns={\"Height\": \"X1\", \"Weight\": \"X2\", \"Index\": \"y\"})\n",
    "bmi.head()"
   ]
  },
  {
   "cell_type": "code",
   "execution_count": 15,
   "id": "22d203ae",
   "metadata": {},
   "outputs": [],
   "source": [
    "# Step 1: Compute necessary sums\n",
    "bmi['X1_squared'] = bmi['X1'] ** 2\n",
    "bmi['X2_squared'] = bmi['X2'] ** 2\n",
    "bmi['X1_y'] = bmi['X1'] * bmi['y']\n",
    "bmi['X2_y'] = bmi['X2'] * bmi['y']\n",
    "bmi['X1_X2'] = bmi['X1'] * bmi['X2']"
   ]
  },
  {
   "cell_type": "code",
   "execution_count": 16,
   "id": "b4b8b8a7",
   "metadata": {},
   "outputs": [],
   "source": [
    "# Totals\n",
    "n = len(bmi) - 1  # Subtracting 1 for the header row\n",
    "sum_X1 = bmi['X1'].sum()\n",
    "sum_X2 = bmi['X2'].sum()\n",
    "sum_y = bmi['y'].sum()\n",
    "sum_X1_squared = bmi['X1_squared'].sum()\n",
    "sum_X2_squared = bmi['X2_squared'].sum()\n",
    "sum_X1_y = bmi['X1_y'].sum()\n",
    "sum_X2_y = bmi['X2_y'].sum()\n",
    "sum_X1_X2 = bmi['X1_X2'].sum()"
   ]
  },
  {
   "cell_type": "code",
   "execution_count": 17,
   "id": "d03c8518",
   "metadata": {},
   "outputs": [],
   "source": [
    "X1_bar = bmi['X1'].mean()\n",
    "X2_bar = bmi['X2'].mean()\n",
    "y_bar = bmi['y'].mean()"
   ]
  },
  {
   "cell_type": "code",
   "execution_count": 18,
   "id": "dabe7de4",
   "metadata": {},
   "outputs": [
    {
     "name": "stdout",
     "output_type": "stream",
     "text": [
      "Regression Sums:\n",
      "reg_s_X1_squared: 104867.59118236415\n",
      "reg_s_X2_squared: 512009.4829659322\n",
      "reg_s_X1_y: -5313.28256513027\n",
      "reg_s_X2_y: 17218.915831663326\n",
      "reg_s_X1_X2: -17932.16432865709\n"
     ]
    }
   ],
   "source": [
    "# Step 2: Compute regression sums\n",
    "reg_s_X1_squared = sum_X1_squared - ((sum_X1 ** 2) / n)\n",
    "reg_s_X2_squared = sum_X2_squared - ((sum_X2 ** 2) / n)\n",
    "reg_s_X1_y = sum_X1_y - ((sum_X1 * sum_y) / n)\n",
    "reg_s_X2_y = sum_X2_y - ((sum_X2 * sum_y) / n)\n",
    "reg_s_X1_X2 = sum_X1_X2 - ((sum_X1 * sum_X2) / n)\n",
    "\n",
    "print(\"Regression Sums:\")\n",
    "print(f\"reg_s_X1_squared: {reg_s_X1_squared}\")\n",
    "print(f\"reg_s_X2_squared: {reg_s_X2_squared}\")\n",
    "print(f\"reg_s_X1_y: {reg_s_X1_y}\")\n",
    "print(f\"reg_s_X2_y: {reg_s_X2_y}\")\n",
    "print(f\"reg_s_X1_X2: {reg_s_X1_X2}\")"
   ]
  },
  {
   "cell_type": "code",
   "execution_count": 19,
   "id": "ded2122f",
   "metadata": {},
   "outputs": [
    {
     "name": "stdout",
     "output_type": "stream",
     "text": [
      "b0: 8.0301, b1: -0.0452, b2: 0.0320\n"
     ]
    }
   ],
   "source": [
    "# Step 3: b0 and b1, b2 calculations (corrected)\n",
    "b1 = ((reg_s_X2_squared * reg_s_X1_y) - (reg_s_X1_X2 * reg_s_X2_y)) / \\\n",
    "     ((reg_s_X1_squared * reg_s_X2_squared) - (reg_s_X1_X2 ** 2))\n",
    "\n",
    "b2 = ((reg_s_X1_squared * reg_s_X2_y) - (reg_s_X1_X2 * reg_s_X1_y)) / \\\n",
    "     ((reg_s_X1_squared * reg_s_X2_squared) - (reg_s_X1_X2 ** 2))\n",
    "\n",
    "b0 = y_bar - (b1 * X1_bar) - (b2 * X2_bar)\n",
    "\n",
    "print(f\"b0: {b0:.4f}, b1: {b1:.4f}, b2: {b2:.4f}\")\n"
   ]
  },
  {
   "cell_type": "code",
   "execution_count": 20,
   "id": "822e6fe6",
   "metadata": {},
   "outputs": [
    {
     "name": "stdout",
     "output_type": "stream",
     "text": [
      "Predicted BMI Value: 2.567\n",
      "BMI Category: Overweight\n"
     ]
    }
   ],
   "source": [
    "def predict_bmi_value(height, weight):\n",
    "    \"\"\"\n",
    "    Predicts the BMI index category value using the regression coefficients.\n",
    "    \"\"\"\n",
    "    return b0 + b1 * height + b2 * weight\n",
    "\n",
    "def bmi_category_name(bmi_value):\n",
    "    \"\"\"\n",
    "    Returns the BMI category name for a given predicted value.\n",
    "    \"\"\"\n",
    "    categories = {\n",
    "        0: \"Extremely Weak\",\n",
    "        1: \"Weak\",\n",
    "        2: \"Normal\",\n",
    "        3: \"Overweight\",\n",
    "        4: \"Obesity\",\n",
    "        5: \"Extreme Obesity\"\n",
    "    }\n",
    "    rounded = int(round(bmi_value))\n",
    "    return categories.get(rounded, \"Unknown\")\n",
    "\n",
    "# Example usage\n",
    "height = 167\n",
    "weight = 65\n",
    "predicted_value = predict_bmi_value(height, weight)\n",
    "category = bmi_category_name(predicted_value)\n",
    "print(f\"Predicted BMI Value: {predicted_value:.3f}\")\n",
    "print(f\"BMI Category: {category}\")"
   ]
  }
 ],
 "metadata": {
  "kernelspec": {
   "display_name": ".venv",
   "language": "python",
   "name": "python3"
  },
  "language_info": {
   "codemirror_mode": {
    "name": "ipython",
    "version": 3
   },
   "file_extension": ".py",
   "mimetype": "text/x-python",
   "name": "python",
   "nbconvert_exporter": "python",
   "pygments_lexer": "ipython3",
   "version": "3.13.0"
  }
 },
 "nbformat": 4,
 "nbformat_minor": 5
}
